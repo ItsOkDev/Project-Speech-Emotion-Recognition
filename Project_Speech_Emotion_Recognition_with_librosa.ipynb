{
  "cells": [
    {
      "cell_type": "markdown",
      "metadata": {
        "id": "view-in-github",
        "colab_type": "text"
      },
      "source": [
        "<a href=\"https://colab.research.google.com/github/ItsOkDev/Project-Speech-Emotion-Recognition/blob/main/Project_Speech_Emotion_Recognition_with_librosa.ipynb\" target=\"_parent\"><img src=\"https://colab.research.google.com/assets/colab-badge.svg\" alt=\"Open In Colab\"/></a>"
      ]
    },
    {
      "cell_type": "markdown",
      "metadata": {
        "id": "wd1zknE2IRew"
      },
      "source": [
        "\n",
        "[Dataset](https://drive.google.com/drive/folders/1-dV8fAVm8mK3tQV47p5qs_DShJwxLTB8?usp=drive_link)"
      ]
    },
    {
      "cell_type": "markdown",
      "source": [],
      "metadata": {
        "id": "H2hoayg5Fsd9"
      }
    },
    {
      "cell_type": "code",
      "execution_count": null,
      "metadata": {
        "id": "RBCd6C-tHJgG"
      },
      "outputs": [],
      "source": [
        "#It will import the files which we collected\n",
        "import os\n",
        "Root = \"/content/drive/MyDrive/Mini_Project\"\n",
        "os.chdir(Root)"
      ]
    },
    {
      "cell_type": "code",
      "execution_count": null,
      "metadata": {
        "colab": {
          "base_uri": "https://localhost:8080/"
        },
        "id": "gj2WvVSLmMW9",
        "outputId": "db98ca17-d559-44f7-bac1-d0fb1733a15d"
      },
      "outputs": [
        {
          "output_type": "stream",
          "name": "stdout",
          "text": [
            "Drive already mounted at /content/drive; to attempt to forcibly remount, call drive.mount(\"/content/drive\", force_remount=True).\n"
          ]
        }
      ],
      "source": [
        " from google.colab import drive\n",
        "drive.mount('/content/drive')"
      ]
    },
    {
      "cell_type": "code",
      "execution_count": null,
      "metadata": {
        "colab": {
          "background_save": true,
          "base_uri": "https://localhost:8080/"
        },
        "id": "CHlkrPZPpXlI",
        "outputId": "0b85d094-5213-4d0a-838d-6faf9a5e635e"
      },
      "outputs": [
        {
          "name": "stdout",
          "output_type": "stream",
          "text": [
            "'[1] Speech Emotion.pptx'\n",
            "\u001b[0m\u001b[01;34m'DataBase Audio'\u001b[0m/\n",
            " Devesh.sav\n",
            "'Project Speech Emotion Recognition with librosa.ipynb'\n",
            "\u001b[01;34m'Test Files'\u001b[0m/\n"
          ]
        }
      ],
      "source": [
        "ls"
      ]
    },
    {
      "cell_type": "code",
      "execution_count": null,
      "metadata": {
        "colab": {
          "background_save": true
        },
        "id": "_IehQoF0pZxl"
      },
      "outputs": [],
      "source": [
        "#Importing our important files to PY\n",
        "import librosa\n",
        "import soundfile\n",
        "import os, glob, pickle\n",
        "import numpy as np\n",
        "from sklearn.model_selection import train_test_split\n",
        "from sklearn.neural_network import MLPClassifier\n",
        "from sklearn.metrics import accuracy_score"
      ]
    },
    {
      "cell_type": "code",
      "execution_count": null,
      "metadata": {
        "colab": {
          "background_save": true
        },
        "id": "cOrKu9Cnphen"
      },
      "outputs": [],
      "source": [
        "#Extract features (mfcc, chroma, mel) from a sound file\n",
        "#Mel-frequency cepstral coefficients (MFCC) used characterize speakers.\n",
        "#Mel-frequency is a representation of the short-term distrbution of sound\n",
        "\n",
        "def extract_feature(file_name, mfcc, chroma, mel):\n",
        "    with soundfile.SoundFile(file_name) as sound_file:\n",
        "        X = sound_file.read(dtype=\"float32\")\n",
        "        sample_rate=sound_file.samplerate\n",
        "        if chroma:\n",
        "            stft=np.abs(librosa.stft(X))\n",
        "        result=np.array([])\n",
        "        if mfcc:\n",
        "            mfccs=np.mean(librosa.feature.mfcc(y=X, sr=sample_rate, n_mfcc=40).T, axis=0)\n",
        "            result=np.hstack((result, mfccs))\n",
        "        if chroma:\n",
        "            chroma=np.mean(librosa.feature.chroma_stft(S=stft, sr=sample_rate).T,axis=0)\n",
        "            result=np.hstack((result, chroma))\n",
        "        if mel:\n",
        "            mel=np.mean(librosa.feature.melspectrogram(X, sr=sample_rate).T,axis=0)\n",
        "            result=np.hstack((result, mel))\n",
        "    return result"
      ]
    },
    {
      "cell_type": "code",
      "execution_count": null,
      "metadata": {
        "id": "ljV0QLcXpmRP"
      },
      "outputs": [],
      "source": [
        "# Emotions in the Our Drive dataset we have\n",
        "emotions={\n",
        "  '01':'neutral',\n",
        "  '02':'calm',\n",
        "  '03':'happy',\n",
        "  '04':'sad',\n",
        "  '05':'angry',\n",
        "  '06':'fearful',\n",
        "  '07':'disgust',\n",
        "  '08':'surprised'\n",
        "}\n",
        "\n",
        "#Emotions to observe\n",
        "observed_emotions=['calm', 'happy', 'fearful', 'disgust']"
      ]
    },
    {
      "cell_type": "code",
      "execution_count": null,
      "metadata": {
        "id": "O46uIg3kpzrG"
      },
      "outputs": [],
      "source": [
        "#Load the data and extract features for each sound file\n",
        "def load_data(test_size=0.2):\n",
        "    x,y=[],[]\n",
        "    for file in glob.glob(\"/content/drive/MyDrive/Mini_Project/DataBase Audio/Speech Emotion Recognition/Actor_*/*.wav\"):\n",
        "        file_name=os.path.basename(file)\n",
        "        emotion=emotions[file_name.split(\"-\")[2]]\n",
        "        if emotion not in observed_emotions:\n",
        "            continue\n",
        "        feature=extract_feature(file, mfcc=True, chroma=True, mel=True)\n",
        "        x.append(feature)\n",
        "        y.append(emotion)\n",
        "    return train_test_split(np.array(x), y, test_size=test_size, random_state=9)"
      ]
    },
    {
      "cell_type": "code",
      "execution_count": null,
      "metadata": {
        "colab": {
          "background_save": true
        },
        "id": "gE_MSQYDqPqg"
      },
      "outputs": [],
      "source": [
        "#Split the dataset\n",
        "x_train, x_test, y_train, y_test=load_data(test_size=0.25)"
      ]
    },
    {
      "cell_type": "code",
      "execution_count": null,
      "metadata": {
        "colab": {
          "base_uri": "https://localhost:8080/"
        },
        "id": "Fo872mW8urUM",
        "outputId": "f994fdd5-852c-4286-e42c-7de9dc2a0cc8"
      },
      "outputs": [
        {
          "data": {
            "text/plain": [
              "array([[-4.24843536e+02,  3.15172577e+01, -2.16740093e+01, ...,\n",
              "         1.16035738e-03,  6.13754033e-04,  2.74434948e-04],\n",
              "       [-5.18894653e+02,  3.56651115e+01, -1.53607740e+01, ...,\n",
              "         8.55299295e-04,  5.85967093e-04,  4.50079620e-04],\n",
              "       [-6.18244507e+02,  4.60745506e+01,  4.23401117e+00, ...,\n",
              "         1.36048504e-04,  4.28800522e-05,  2.29466659e-05],\n",
              "       ...,\n",
              "       [-5.02976959e+02,  1.82096176e+01, -1.75191174e+01, ...,\n",
              "         2.78437394e-03,  2.16145208e-03,  1.08908780e-03],\n",
              "       [-7.71064636e+02,  3.82453308e+01,  6.00050831e+00, ...,\n",
              "         6.09223298e-06,  6.10482266e-06,  3.10198266e-06],\n",
              "       [-6.93767334e+02,  6.01956596e+01,  2.41615887e+01, ...,\n",
              "         3.39693433e-05,  2.36386968e-05,  1.21768153e-05]])"
            ]
          },
          "execution_count": 14,
          "metadata": {},
          "output_type": "execute_result"
        }
      ],
      "source": [
        "x_train"
      ]
    },
    {
      "cell_type": "code",
      "execution_count": null,
      "metadata": {
        "colab": {
          "base_uri": "https://localhost:8080/"
        },
        "id": "cNIOCRQ6qWOq",
        "outputId": "dc55fbb0-b3b0-487d-f4e6-394a507e3583"
      },
      "outputs": [
        {
          "name": "stdout",
          "output_type": "stream",
          "text": [
            "(354, 118)\n"
          ]
        }
      ],
      "source": [
        "#Get the shape of the training and testing datasets\n",
        "print((x_train.shape[0], x_test.shape[0]))"
      ]
    },
    {
      "cell_type": "code",
      "execution_count": null,
      "metadata": {
        "colab": {
          "base_uri": "https://localhost:8080/"
        },
        "id": "XqoLMHgsqcP8",
        "outputId": "5737ee52-c88a-4f69-f52b-60710564b85f"
      },
      "outputs": [
        {
          "name": "stdout",
          "output_type": "stream",
          "text": [
            "Features extracted: 180\n"
          ]
        }
      ],
      "source": [
        "#Get the number of features extracted\n",
        "print(f'Features extracted: {x_train.shape[1]}')"
      ]
    },
    {
      "cell_type": "code",
      "execution_count": null,
      "metadata": {
        "id": "bQsjvZiwqcTN"
      },
      "outputs": [],
      "source": [
        "#Initialize the Multi Layer Perceptron Classifier\n",
        "model=MLPClassifier(alpha=0.01, batch_size=256, epsilon=1e-08, hidden_layer_sizes=(300,), learning_rate='adaptive', max_iter=500)"
      ]
    },
    {
      "cell_type": "code",
      "execution_count": null,
      "metadata": {
        "colab": {
          "base_uri": "https://localhost:8080/"
        },
        "id": "tmZiXDHPqcV5",
        "outputId": "8dc3f4f7-33fb-40a8-efbe-96ca92105b85"
      },
      "outputs": [
        {
          "name": "stderr",
          "output_type": "stream",
          "text": [
            "/usr/local/lib/python3.7/dist-packages/sklearn/neural_network/_multilayer_perceptron.py:696: ConvergenceWarning: Stochastic Optimizer: Maximum iterations (500) reached and the optimization hasn't converged yet.\n",
            "  ConvergenceWarning,\n"
          ]
        },
        {
          "data": {
            "text/plain": [
              "MLPClassifier(alpha=0.01, batch_size=256, hidden_layer_sizes=(300,),\n",
              "              learning_rate='adaptive', max_iter=500)"
            ]
          },
          "execution_count": 19,
          "metadata": {},
          "output_type": "execute_result"
        }
      ],
      "source": [
        "#Train the model\n",
        "model.fit(x_train,y_train)"
      ]
    },
    {
      "cell_type": "code",
      "execution_count": null,
      "metadata": {
        "id": "lumz8vRQqcYs"
      },
      "outputs": [],
      "source": [
        "#Predict for the test set\n",
        "y_pred=model.predict(x_test)"
      ]
    },
    {
      "cell_type": "code",
      "execution_count": null,
      "metadata": {
        "colab": {
          "base_uri": "https://localhost:8080/"
        },
        "id": "m604kmiFtxLP",
        "outputId": "cc62475d-40d5-4f5d-c4f1-a35fc9f012c2"
      },
      "outputs": [
        {
          "data": {
            "text/plain": [
              "array(['happy', 'calm', 'disgust', 'calm', 'happy', 'fearful', 'happy',\n",
              "       'fearful', 'calm', 'disgust', 'calm', 'disgust', 'fearful',\n",
              "       'disgust', 'fearful', 'happy', 'fearful', 'fearful', 'happy',\n",
              "       'disgust', 'fearful', 'happy', 'disgust', 'happy', 'disgust',\n",
              "       'calm', 'happy', 'disgust', 'calm', 'disgust', 'happy', 'happy',\n",
              "       'fearful', 'happy', 'happy', 'calm', 'disgust', 'happy', 'disgust',\n",
              "       'fearful', 'disgust', 'fearful', 'disgust', 'happy', 'happy',\n",
              "       'happy', 'happy', 'disgust', 'calm', 'disgust', 'fearful', 'happy',\n",
              "       'calm', 'disgust', 'happy', 'happy', 'happy', 'calm', 'calm',\n",
              "       'calm', 'fearful', 'fearful', 'disgust', 'calm', 'calm', 'calm',\n",
              "       'calm', 'fearful', 'calm', 'fearful', 'happy', 'happy', 'calm',\n",
              "       'calm', 'disgust', 'calm', 'happy', 'happy', 'disgust', 'happy',\n",
              "       'happy', 'happy', 'fearful', 'disgust', 'calm', 'fearful',\n",
              "       'fearful', 'happy', 'calm', 'disgust', 'disgust', 'disgust',\n",
              "       'fearful', 'calm', 'happy', 'happy', 'happy', 'calm', 'happy',\n",
              "       'disgust', 'disgust', 'disgust', 'disgust', 'calm', 'fearful',\n",
              "       'calm', 'happy', 'calm', 'disgust', 'calm', 'disgust', 'calm',\n",
              "       'calm', 'disgust', 'disgust', 'happy', 'fearful', 'fearful'],\n",
              "      dtype='<U7')"
            ]
          },
          "execution_count": 21,
          "metadata": {},
          "output_type": "execute_result"
        }
      ],
      "source": [
        "y_pred"
      ]
    },
    {
      "cell_type": "code",
      "execution_count": null,
      "metadata": {
        "colab": {
          "base_uri": "https://localhost:8080/"
        },
        "id": "IrCVcauwqkFs",
        "outputId": "69cdcafd-2495-41de-e816-f3cacf7a87af"
      },
      "outputs": [
        {
          "name": "stdout",
          "output_type": "stream",
          "text": [
            "Accuracy: 75.42%\n"
          ]
        }
      ],
      "source": [
        "#Calculate the accuracy of our model\n",
        "accuracy=accuracy_score(y_true=y_test, y_pred=y_pred)\n",
        "\n",
        "#Print the accuracy\n",
        "print(\"Accuracy: {:.2f}%\".format(accuracy*100))"
      ]
    },
    {
      "cell_type": "code",
      "execution_count": null,
      "metadata": {
        "id": "vJ8_B3O0qkJG"
      },
      "outputs": [],
      "source": [
        "from sklearn.metrics import accuracy_score, f1_score"
      ]
    },
    {
      "cell_type": "code",
      "execution_count": null,
      "metadata": {
        "colab": {
          "base_uri": "https://localhost:8080/"
        },
        "id": "_Ry4if_sqkLr",
        "outputId": "65be41ea-d3f3-4992-f03b-4d0e7cdab1fd"
      },
      "outputs": [
        {
          "data": {
            "text/plain": [
              "array([0.88888889, 0.79310345, 0.7       , 0.77333333])"
            ]
          },
          "execution_count": 20,
          "metadata": {},
          "output_type": "execute_result"
        }
      ],
      "source": [
        "f1_score(y_test, y_pred,average=None)"
      ]
    },
    {
      "cell_type": "code",
      "execution_count": null,
      "metadata": {
        "colab": {
          "base_uri": "https://localhost:8080/",
          "height": 677
        },
        "id": "0Rt9YfZkCO5A",
        "outputId": "3c5eecf8-6a9e-4481-916f-208af50bc667"
      },
      "outputs": [
        {
          "data": {
            "text/html": [
              "<div>\n",
              "<style scoped>\n",
              "    .dataframe tbody tr th:only-of-type {\n",
              "        vertical-align: middle;\n",
              "    }\n",
              "\n",
              "    .dataframe tbody tr th {\n",
              "        vertical-align: top;\n",
              "    }\n",
              "\n",
              "    .dataframe thead th {\n",
              "        text-align: right;\n",
              "    }\n",
              "</style>\n",
              "<table border=\"1\" class=\"dataframe\">\n",
              "  <thead>\n",
              "    <tr style=\"text-align: right;\">\n",
              "      <th></th>\n",
              "      <th>Actual</th>\n",
              "      <th>Predicted</th>\n",
              "    </tr>\n",
              "  </thead>\n",
              "  <tbody>\n",
              "    <tr>\n",
              "      <th>0</th>\n",
              "      <td>happy</td>\n",
              "      <td>happy</td>\n",
              "    </tr>\n",
              "    <tr>\n",
              "      <th>1</th>\n",
              "      <td>calm</td>\n",
              "      <td>calm</td>\n",
              "    </tr>\n",
              "    <tr>\n",
              "      <th>2</th>\n",
              "      <td>disgust</td>\n",
              "      <td>disgust</td>\n",
              "    </tr>\n",
              "    <tr>\n",
              "      <th>3</th>\n",
              "      <td>calm</td>\n",
              "      <td>calm</td>\n",
              "    </tr>\n",
              "    <tr>\n",
              "      <th>4</th>\n",
              "      <td>happy</td>\n",
              "      <td>happy</td>\n",
              "    </tr>\n",
              "    <tr>\n",
              "      <th>5</th>\n",
              "      <td>fearful</td>\n",
              "      <td>fearful</td>\n",
              "    </tr>\n",
              "    <tr>\n",
              "      <th>6</th>\n",
              "      <td>happy</td>\n",
              "      <td>happy</td>\n",
              "    </tr>\n",
              "    <tr>\n",
              "      <th>7</th>\n",
              "      <td>fearful</td>\n",
              "      <td>fearful</td>\n",
              "    </tr>\n",
              "    <tr>\n",
              "      <th>8</th>\n",
              "      <td>happy</td>\n",
              "      <td>calm</td>\n",
              "    </tr>\n",
              "    <tr>\n",
              "      <th>9</th>\n",
              "      <td>disgust</td>\n",
              "      <td>disgust</td>\n",
              "    </tr>\n",
              "    <tr>\n",
              "      <th>10</th>\n",
              "      <td>calm</td>\n",
              "      <td>calm</td>\n",
              "    </tr>\n",
              "    <tr>\n",
              "      <th>11</th>\n",
              "      <td>disgust</td>\n",
              "      <td>disgust</td>\n",
              "    </tr>\n",
              "    <tr>\n",
              "      <th>12</th>\n",
              "      <td>happy</td>\n",
              "      <td>happy</td>\n",
              "    </tr>\n",
              "    <tr>\n",
              "      <th>13</th>\n",
              "      <td>happy</td>\n",
              "      <td>disgust</td>\n",
              "    </tr>\n",
              "    <tr>\n",
              "      <th>14</th>\n",
              "      <td>happy</td>\n",
              "      <td>fearful</td>\n",
              "    </tr>\n",
              "    <tr>\n",
              "      <th>15</th>\n",
              "      <td>happy</td>\n",
              "      <td>happy</td>\n",
              "    </tr>\n",
              "    <tr>\n",
              "      <th>16</th>\n",
              "      <td>fearful</td>\n",
              "      <td>fearful</td>\n",
              "    </tr>\n",
              "    <tr>\n",
              "      <th>17</th>\n",
              "      <td>fearful</td>\n",
              "      <td>fearful</td>\n",
              "    </tr>\n",
              "    <tr>\n",
              "      <th>18</th>\n",
              "      <td>fearful</td>\n",
              "      <td>happy</td>\n",
              "    </tr>\n",
              "    <tr>\n",
              "      <th>19</th>\n",
              "      <td>disgust</td>\n",
              "      <td>disgust</td>\n",
              "    </tr>\n",
              "  </tbody>\n",
              "</table>\n",
              "</div>"
            ],
            "text/plain": [
              "     Actual Predicted\n",
              "0     happy     happy\n",
              "1      calm      calm\n",
              "2   disgust   disgust\n",
              "3      calm      calm\n",
              "4     happy     happy\n",
              "5   fearful   fearful\n",
              "6     happy     happy\n",
              "7   fearful   fearful\n",
              "8     happy      calm\n",
              "9   disgust   disgust\n",
              "10     calm      calm\n",
              "11  disgust   disgust\n",
              "12    happy     happy\n",
              "13    happy   disgust\n",
              "14    happy   fearful\n",
              "15    happy     happy\n",
              "16  fearful   fearful\n",
              "17  fearful   fearful\n",
              "18  fearful     happy\n",
              "19  disgust   disgust"
            ]
          },
          "execution_count": 21,
          "metadata": {},
          "output_type": "execute_result"
        }
      ],
      "source": [
        "import pandas as pd\n",
        "df=pd.DataFrame({'Actual': y_test, 'Predicted':y_pred})\n",
        "df.head(20)"
      ]
    },
    {
      "cell_type": "code",
      "execution_count": null,
      "metadata": {
        "id": "eYPWbWLBqkN7"
      },
      "outputs": [],
      "source": [
        "import pickle\n",
        "# Writing different model files to file\n",
        "with open( 'Devesh.sav', 'wb') as f:\n",
        "    pickle.dump(model,f)"
      ]
    },
    {
      "cell_type": "code",
      "execution_count": null,
      "metadata": {
        "colab": {
          "base_uri": "https://localhost:8080/"
        },
        "id": "dw0IfunzvqtV",
        "outputId": "b113dc66-f26f-409d-9c01-2f317eedb683"
      },
      "outputs": [
        {
          "data": {
            "text/plain": [
              "array(['happy'], dtype='<U7')"
            ]
          },
          "execution_count": 23,
          "metadata": {},
          "output_type": "execute_result"
        }
      ],
      "source": [
        "filename = 'Devesh.sav'\n",
        "loaded_model = pickle.load(open(filename, 'rb')) # loading the model file from the storage\n",
        "\n",
        "feature=extract_feature(\"/content/drive/MyDrive/Mini_Project/DataBase Audio/Speech Emotion Recognition/Actor_16/03-01-08-02-02-02-16.wav\", mfcc=True, chroma=True, mel=True)\n",
        "\n",
        "feature=feature.reshape(1,-1)\n",
        "\n",
        "prediction=loaded_model.predict(feature)\n",
        "prediction"
      ]
    },
    {
      "cell_type": "code",
      "execution_count": null,
      "metadata": {
        "colab": {
          "base_uri": "https://localhost:8080/"
        },
        "id": "grRD5MrTxOaL",
        "outputId": "7dd06435-2553-4d1e-a0de-771a63d58534"
      },
      "outputs": [
        {
          "data": {
            "text/plain": [
              "array([[-5.20745178e+02,  3.20773087e+01, -1.12151184e+01,\n",
              "        -1.90159589e-01, -1.38491583e+01, -1.80189419e+01,\n",
              "        -1.39517689e+01, -8.85480785e+00, -7.95112705e+00,\n",
              "        -1.07886896e+01, -5.70207214e+00, -6.06066656e+00,\n",
              "        -3.03881907e+00, -2.44607711e+00, -1.90089658e-01,\n",
              "         4.72313732e-01, -4.45844889e+00, -1.06163895e+00,\n",
              "         1.61066997e+00,  1.43031865e-01, -2.08865929e+00,\n",
              "         4.82732326e-01, -1.66322291e+00,  5.34366655e+00,\n",
              "         2.64348149e+00,  2.50477004e+00, -1.73138455e-01,\n",
              "        -1.10051191e+00, -2.25656438e+00, -9.14970517e-01,\n",
              "        -7.89558232e-01, -5.30973375e-01, -1.08411610e+00,\n",
              "        -4.30224895e-01,  1.14897475e-01,  1.33599627e+00,\n",
              "        -1.68436304e-01,  2.06158090e+00,  1.69242501e+00,\n",
              "         7.41923332e-01,  5.53748131e-01,  4.92930800e-01,\n",
              "         4.61575985e-01,  4.97707605e-01,  5.46705186e-01,\n",
              "         5.52395523e-01,  5.52943587e-01,  5.38808763e-01,\n",
              "         5.03655076e-01,  5.16405463e-01,  5.75803757e-01,\n",
              "         6.17268145e-01,  1.53795572e-05,  3.44799664e-05,\n",
              "         8.45391769e-05,  1.13602007e-04,  8.20891000e-05,\n",
              "         1.04304007e-03,  1.16475346e-02,  8.43871664e-03,\n",
              "         7.16547966e-02,  1.48236409e-01,  2.73053437e-01,\n",
              "         1.71641096e-01,  1.74013808e-01,  3.03352833e-01,\n",
              "         4.58181828e-01,  3.41972828e-01,  3.01073253e-01,\n",
              "         2.05579728e-01,  2.72000790e-01,  7.37308621e-01,\n",
              "         1.26935709e+00,  1.33637786e+00,  9.81808841e-01,\n",
              "         1.05605543e+00,  2.91188329e-01,  1.85963735e-01,\n",
              "         1.66955963e-01,  1.46858290e-01,  2.19936028e-01,\n",
              "         1.83427349e-01,  2.24027202e-01,  9.31051612e-01,\n",
              "         1.80314279e+00,  4.02084053e-01,  3.28139931e-01,\n",
              "         2.91693449e-01,  3.54657024e-01,  1.62451297e-01,\n",
              "         1.12683997e-01,  6.37810230e-02,  9.50996354e-02,\n",
              "         1.33271813e-01,  6.88873380e-02,  8.96652564e-02,\n",
              "         2.58543640e-02,  3.01319696e-02,  4.35407348e-02,\n",
              "         5.54012284e-02,  6.50665909e-02,  5.81861250e-02,\n",
              "         3.70683707e-02,  3.76866087e-02,  6.25378937e-02,\n",
              "         8.20440874e-02,  4.74775843e-02,  2.41241809e-02,\n",
              "         2.49279495e-02,  2.62442660e-02,  6.22356459e-02,\n",
              "         2.49904487e-02,  2.43247189e-02,  9.70216095e-03,\n",
              "         4.19723522e-03,  1.02782743e-02,  1.19111026e-02,\n",
              "         6.13617059e-03,  2.40664780e-02,  3.91832218e-02,\n",
              "         2.53306739e-02,  1.73968337e-02,  1.03256684e-02,\n",
              "         1.35851903e-02,  3.96678373e-02,  1.89912878e-02,\n",
              "         1.43398587e-02,  2.60153413e-02,  1.37751233e-02,\n",
              "         8.57741665e-03,  2.74211355e-03,  2.81500490e-03,\n",
              "         3.76336696e-03,  7.89490808e-03,  2.73022079e-03,\n",
              "         1.85362436e-03,  6.76604360e-03,  2.37429459e-02,\n",
              "         8.56555253e-03,  6.55654306e-03,  7.02539505e-03,\n",
              "         1.09408321e-02,  8.23150855e-03,  2.08274508e-03,\n",
              "         1.08093128e-03,  8.62156448e-04,  8.78771301e-04,\n",
              "         8.75438272e-04,  2.25861417e-03,  3.04611772e-03,\n",
              "         3.62542877e-03,  1.79356919e-03,  1.64097734e-03,\n",
              "         2.55573587e-03,  2.44520232e-03,  5.20082470e-03,\n",
              "         2.50703096e-03,  1.06814294e-03,  6.81869045e-04,\n",
              "         9.77496500e-04,  3.14105977e-03,  3.67419911e-03,\n",
              "         4.07681428e-03,  2.01181020e-03,  1.99513300e-03,\n",
              "         1.80344179e-03,  1.45557814e-03,  1.55986031e-03,\n",
              "         1.69703609e-03,  1.23022962e-03,  9.73583315e-04,\n",
              "         1.34013372e-03,  1.57090428e-03,  1.62738562e-03,\n",
              "         1.43556297e-03,  1.90154917e-03,  1.67681859e-03,\n",
              "         1.80081709e-03,  1.08720898e-03,  6.16579200e-04]])"
            ]
          },
          "execution_count": 24,
          "metadata": {},
          "output_type": "execute_result"
        }
      ],
      "source": [
        "feature"
      ]
    },
    {
      "cell_type": "code",
      "execution_count": null,
      "metadata": {
        "id": "2b_mwxpsyugl"
      },
      "outputs": [],
      "source": []
    }
  ],
  "metadata": {
    "colab": {
      "provenance": [],
      "include_colab_link": true
    },
    "kernelspec": {
      "display_name": "Python 3",
      "name": "python3"
    },
    "language_info": {
      "name": "python"
    }
  },
  "nbformat": 4,
  "nbformat_minor": 0
}